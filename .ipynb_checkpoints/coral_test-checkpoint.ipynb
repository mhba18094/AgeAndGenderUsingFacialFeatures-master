{
 "cells": [
  {
   "cell_type": "code",
   "execution_count": 1,
   "id": "ae23a9b4",
   "metadata": {},
   "outputs": [
    {
     "name": "stdout",
     "output_type": "stream",
     "text": [
      "   age  gender ethnicity                               img_name\n",
      "0    2       1         2   2_1_2_20161219151919100.jpg.chip.jpg\n",
      "1    7       0         0   7_0_0_20170110215633251.jpg.chip.jpg\n",
      "2   56       0         0  56_0_0_20170111200016066.jpg.chip.jpg\n",
      "3   53       0         0  53_0_0_20170105172607885.jpg.chip.jpg\n",
      "4   45       0         2  45_0_2_20170105173303117.jpg.chip.jpg\n"
     ]
    }
   ],
   "source": [
    "import pandas as pd\n",
    "import numpy as np\n",
    "import torch\n",
    "\n",
    "df = pd.read_csv('./csv_dataset/cropped.csv')\n",
    "df.dropna()\n",
    "print(df.head())"
   ]
  },
  {
   "cell_type": "code",
   "execution_count": 2,
   "id": "364a7684",
   "metadata": {},
   "outputs": [],
   "source": [
    "from sklearn.model_selection import train_test_split\n",
    "\n",
    "df_train, df_test = train_test_split(df, train_size=0.8, random_state=42)\n",
    "df_train, df_valid = train_test_split(df_train, train_size=0.85, random_state=42)\n",
    "\n",
    "# Save the training, validation, and test sets in separate CSV files.\n",
    "df_train.to_csv('./csv_dataset/train_set.csv', index=False)\n",
    "df_valid.to_csv('./csv_dataset/valid_set.csv', index=False)\n",
    "df_test.to_csv('./csv_dataset/test_set.csv', index=False)"
   ]
  },
  {
   "cell_type": "code",
   "execution_count": 3,
   "id": "624ea1e3",
   "metadata": {},
   "outputs": [],
   "source": [
    "import torchvision.transforms as T\n",
    "transform_train = T.Compose([T.Resize((128, 128)),\n",
    "                             T.RandomHorizontalFlip(),\n",
    "                             T.RandomRotation(degrees=15),\n",
    "                             T.ColorJitter(brightness=(0.5, 1.5), contrast=1, saturation=(0.5, 1.5), hue=(-0.1, 0.1)),\n",
    "                             T.ToTensor(),\n",
    "                             T.Normalize(mean=[0.485, 0.456, 0.406], std=[0.229, 0.224, 0.225])\n",
    "                             ])\n",
    "\n",
    "transform_test = T.Compose([T.Resize((128, 128)),\n",
    "                            T.ToTensor(),\n",
    "                            T.Normalize(mean=[0.485, 0.456, 0.406], std=[0.229, 0.224, 0.225])\n",
    "                            ])\n"
   ]
  },
  {
   "cell_type": "code",
   "execution_count": null,
   "id": "b8b7a173",
   "metadata": {},
   "outputs": [],
   "source": [
    "from torch.utils.data import Dataset, DataLoader\n",
    "\n",
    "class UTKface(Dataset):\n",
    "    def __init__(self, csv_file, transform=None):\n",
    "        self.data = pd.read_csv(csv_file)\n",
    "        self.transform = transform\n",
    "        \n",
    "    def __len__(self):\n",
    "        return len(self.data)\n",
    "    \n",
    "    def __getitem__(self, index):\n",
    "        row = self.data.iloc[index].values\n",
    "        img_dir = str(Path('./crop_part1' / f\"{row[-1]}\"))\n",
    "        image = Image.open(img_dir).convert(\"RGB\")\n",
    "        image = self.transform(image)\n",
    "        age = torch.tensor(row[0])\n",
    "        gender = torch.tensor(row[1])\n",
    "        ethnicity = torch.tensor(row[2])\n",
    "        return image, age, gender, ethnicity\n",
    "    \n",
    "    \n",
    "        \n",
    "        "
   ]
  }
 ],
 "metadata": {
  "kernelspec": {
   "display_name": "Python 3 (ipykernel)",
   "language": "python",
   "name": "python3"
  },
  "language_info": {
   "codemirror_mode": {
    "name": "ipython",
    "version": 3
   },
   "file_extension": ".py",
   "mimetype": "text/x-python",
   "name": "python",
   "nbconvert_exporter": "python",
   "pygments_lexer": "ipython3",
   "version": "3.11.4"
  }
 },
 "nbformat": 4,
 "nbformat_minor": 5
}
