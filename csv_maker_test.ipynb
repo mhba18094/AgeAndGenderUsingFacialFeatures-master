{
 "cells": [
  {
   "cell_type": "code",
   "execution_count": 1,
   "metadata": {},
   "outputs": [
    {
     "name": "stdout",
     "output_type": "stream",
     "text": [
      "[]\n"
     ]
    }
   ],
   "source": [
    "import pandas as pd\n",
    "import numpy as np\n",
    "import torch\n",
    "import csv\n",
    "from pathlib import Path\n",
    "import random\n",
    "\n",
    "#making csv from our dataset\n",
    "\n",
    "data_dir = './test_images/'\n",
    "\n",
    "p = Path(data_dir).glob('*')\n",
    "imgs = [str(x).replace('crop_part1/', '') for x in p if x.is_file()]\n",
    "temp = imgs\n",
    "imgs = [x.replace('.jpg.chip.jpg', '') for x in imgs]\n",
    "imgs = [x.split('_') for x in imgs]\n",
    "imgs = [x[:-1] for x in imgs]\n",
    "for i in range(len(imgs)):\n",
    "    imgs[i].append(temp[i])\n",
    "\n",
    "random.shuffle(imgs)\n",
    "print(imgs)\n",
    "fields = ['age', 'gender', 'ethnicity', 'img_name']\n",
    "\n",
    "with open('csv_dataset/new.csv', 'w') as csvfile:\n",
    "    csv_writer = csv.writer(csvfile)\n",
    "    csv_writer.writerow(fields)\n",
    "    \n",
    "    csv_writer.writerows(imgs)\n",
    "    "
   ]
  }
 ],
 "metadata": {
  "kernelspec": {
   "display_name": "Python 3",
   "language": "python",
   "name": "python3"
  },
  "language_info": {
   "codemirror_mode": {
    "name": "ipython",
    "version": 3
   },
   "file_extension": ".py",
   "mimetype": "text/x-python",
   "name": "python",
   "nbconvert_exporter": "python",
   "pygments_lexer": "ipython3",
   "version": "3.12.1"
  }
 },
 "nbformat": 4,
 "nbformat_minor": 2
}
