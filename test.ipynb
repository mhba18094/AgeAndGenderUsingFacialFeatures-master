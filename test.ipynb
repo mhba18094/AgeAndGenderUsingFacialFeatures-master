{
 "cells": [
  {
   "cell_type": "code",
   "execution_count": 7,
   "id": "93117ae6",
   "metadata": {},
   "outputs": [],
   "source": [
    "import matplotlib.pyplot as plt\n",
    "import numpy as np\n",
    "import pandas as pd\n",
    "import PIL\n",
    "import PIL.Image\n",
    "from pathlib import Path"
   ]
  },
  {
   "cell_type": "code",
   "execution_count": 8,
   "id": "d921fbdb",
   "metadata": {},
   "outputs": [],
   "source": [
    "data_dir_parent = Path('./crop_part1')\n",
    "all_images = [x for x in data_dir_parent.iterdir() if x.is_file()]\n",
    "def image_age(x):\n",
    "    return int(Path(x).stem.split('_')[0])\n",
    "\n",
    "def image_gender(x):\n",
    "    return int(Path(x).stem.split('_')[1])\n",
    "\n",
    "unique_genders = set([image_gender(x) for x in all_images])\n",
    "images_split_by_gender = {x:[y for y in all_images if image_gender(y) == x] for x in unique_genders}\n",
    "# images_split_by_gender\n",
    "\n",
    "unique_ages = set([image_age(x) for x in all_images])\n",
    "images_split_by_age = {x:[y for y in all_images if image_age(y) == x] for x in unique_ages}\n",
    "# images_split_by_age"
   ]
  },
  {
   "cell_type": "code",
   "execution_count": 9,
   "id": "62177ce6",
   "metadata": {},
   "outputs": [
    {
     "data": {
      "text/plain": [
       "(PosixPath('crop_part1/1_1_4_20170103204831032.jpg.chip.jpg'),\n",
       " PosixPath('crop_part1/1_1_0_20170109190845250.jpg.chip.jpg'),\n",
       " PosixPath('crop_part1/1_1_2_20161219221237927.jpg.chip.jpg'),\n",
       " PosixPath('crop_part1/1_0_2_20161219155802845.jpg.chip.jpg'))"
      ]
     },
     "metadata": {},
     "output_type": "display_data"
    },
    {
     "data": {
      "text/plain": [
       "(1, 1, 1, 1)"
      ]
     },
     "metadata": {},
     "output_type": "display_data"
    },
    {
     "name": "stderr",
     "output_type": "stream",
     "text": [
      "100%|█████████████████████████████████████████████████████████████████████████████████████████████| 9779/9779 [00:10<00:00, 938.91it/s]\n"
     ]
    }
   ],
   "source": [
    "labels, X_paths = [*zip(*[(k,path) for k,paths in images_split_by_age.items() for path in paths])]\n",
    "display(X_paths[:4], labels[:4])\n",
    "\n",
    "from PIL import Image\n",
    "from tqdm import tqdm\n",
    "X = np.stack([np.array(Image.open(imgp).resize((100,100)).convert('L')).flatten() for imgp in tqdm(X_paths)])\n",
    "# X_images[0].size\n",
    "# Image.open(X_paths[0]).size"
   ]
  },
  {
   "cell_type": "code",
   "execution_count": 10,
   "id": "b1ea88a3",
   "metadata": {},
   "outputs": [
    {
     "data": {
      "text/plain": [
       "((9779, 10000), (9779,))"
      ]
     },
     "execution_count": 10,
     "metadata": {},
     "output_type": "execute_result"
    }
   ],
   "source": [
    "y = np.array(labels)\n",
    "X.shape, y.shape"
   ]
  },
  {
   "cell_type": "code",
   "execution_count": 11,
   "id": "ec11b8a8",
   "metadata": {},
   "outputs": [],
   "source": [
    "from sklearn.model_selection import train_test_split\n",
    "X_train, X_test, y_train, y_test = train_test_split(X, y, test_size=0.2, random_state=42)"
   ]
  },
  {
   "cell_type": "code",
   "execution_count": 13,
   "id": "f208c4b8",
   "metadata": {},
   "outputs": [
    {
     "data": {
      "text/plain": [
       "-5.886020249125957e+18"
      ]
     },
     "execution_count": 13,
     "metadata": {},
     "output_type": "execute_result"
    }
   ],
   "source": [
    "from sklearn.pipeline import Pipeline\n",
    "from sklearn.preprocessing import StandardScaler\n",
    "from sklearn.linear_model import LogisticRegression, LinearRegression\n",
    "from sklearn.tree import DecisionTreeClassifier\n",
    "pipeline = Pipeline([('scaler',StandardScaler()), ('clf', LinearRegression())])\n",
    "pipeline.fit(X_train,y_train)\n",
    "pipeline.score(X_test,y_test)"
   ]
  },
  {
   "cell_type": "code",
   "execution_count": null,
   "id": "92a8d4d8",
   "metadata": {},
   "outputs": [],
   "source": []
  }
 ],
 "metadata": {
  "kernelspec": {
   "display_name": "Python 3 (ipykernel)",
   "language": "python",
   "name": "python3"
  },
  "language_info": {
   "codemirror_mode": {
    "name": "ipython",
    "version": 3
   },
   "file_extension": ".py",
   "mimetype": "text/x-python",
   "name": "python",
   "nbconvert_exporter": "python",
   "pygments_lexer": "ipython3",
   "version": "3.11.4"
  }
 },
 "nbformat": 4,
 "nbformat_minor": 5
}
